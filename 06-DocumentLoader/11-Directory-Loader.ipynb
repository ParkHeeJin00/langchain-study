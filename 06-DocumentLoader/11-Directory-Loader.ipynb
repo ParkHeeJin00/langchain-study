{
 "cells": [
  {
   "cell_type": "markdown",
   "id": "09593bcf",
   "metadata": {},
   "source": [
    "# 디렉토리에서 문서를 로드하는 방법\n",
    "\n",
    "LangChain의 [DirectoryLoader](https://api.python.langchain.com/en/latest/document_loaders/langchain_community.document_loaders.directory.DirectoryLoader.html)는 디스크에서 파일을 읽어 LangChain [Document](https://api.python.langchain.com/en/latest/documents/langchain_core.documents.base.Document.html#langchain_core.documents.base.Document) 객체로 변환하는 기능을 구현합니다. \n",
    "\n",
    "이번 튜토리얼은 다음의 내용을 포함합니다.\n",
    "- 와일드카드 패턴을 포함하여 파일 시스템에서 로드하는 방법\n",
    "- 파일 I/O에 멀티스레딩을 사용하는 방법\n",
    "- 특정 파일 유형(예: 코드)을 파싱하기 위해 사용자 정의 로더 클래스를 사용하는 방법\n",
    "- 디코딩으로 인한 오류와 같은 오류를 처리하는 방법"
   ]
  },
  {
   "cell_type": "markdown",
   "id": "741aee81",
   "metadata": {},
   "source": [
    "**DirectoryLoader**는 기본적으로 [UnstructuredLoader](https://python.langchain.com/v0.2/docs/integrations/providers/unstructured/)\n",
    "를 `loader_cls` kwarg로 받아들입니다. [Unstructured](https://unstructured-io.github.io/unstructured/)는 PDF와 HTML과 같은 다양한 형식의 파싱을 지원합니다. 여기서는 마크다운(.md) 파일을 읽기 위해 사용합니다.\n",
    "\n",
    "`glob` 매개변수를 사용하여 로드할 파일 형식을 제어할 수 있습니다. "
   ]
  },
  {
   "cell_type": "code",
   "execution_count": 2,
   "id": "1ae31b21",
   "metadata": {},
   "outputs": [
    {
     "name": "stdout",
     "output_type": "stream",
     "text": [
      "Requirement already satisfied: unstructured[md] in c:\\users\\yhdb\\anaconda3\\envs\\py310\\lib\\site-packages (0.16.11)\n",
      "Requirement already satisfied: chardet in c:\\users\\yhdb\\anaconda3\\envs\\py310\\lib\\site-packages (from unstructured[md]) (5.2.0)\n",
      "Requirement already satisfied: filetype in c:\\users\\yhdb\\anaconda3\\envs\\py310\\lib\\site-packages (from unstructured[md]) (1.2.0)\n",
      "Requirement already satisfied: python-magic in c:\\users\\yhdb\\anaconda3\\envs\\py310\\lib\\site-packages (from unstructured[md]) (0.4.27)\n",
      "Requirement already satisfied: lxml in c:\\users\\yhdb\\anaconda3\\envs\\py310\\lib\\site-packages (from unstructured[md]) (5.3.0)\n",
      "Requirement already satisfied: nltk in c:\\users\\yhdb\\anaconda3\\envs\\py310\\lib\\site-packages (from unstructured[md]) (3.9.1)\n",
      "Requirement already satisfied: requests in c:\\users\\yhdb\\anaconda3\\envs\\py310\\lib\\site-packages (from unstructured[md]) (2.32.3)\n",
      "Requirement already satisfied: beautifulsoup4 in c:\\users\\yhdb\\anaconda3\\envs\\py310\\lib\\site-packages (from unstructured[md]) (4.12.3)\n",
      "Requirement already satisfied: emoji in c:\\users\\yhdb\\anaconda3\\envs\\py310\\lib\\site-packages (from unstructured[md]) (2.14.0)\n",
      "Requirement already satisfied: dataclasses-json in c:\\users\\yhdb\\anaconda3\\envs\\py310\\lib\\site-packages (from unstructured[md]) (0.6.7)\n",
      "Requirement already satisfied: python-iso639 in c:\\users\\yhdb\\anaconda3\\envs\\py310\\lib\\site-packages (from unstructured[md]) (2024.10.22)\n",
      "Requirement already satisfied: langdetect in c:\\users\\yhdb\\anaconda3\\envs\\py310\\lib\\site-packages (from unstructured[md]) (1.0.9)\n",
      "Requirement already satisfied: numpy<2 in c:\\users\\yhdb\\anaconda3\\envs\\py310\\lib\\site-packages (from unstructured[md]) (1.26.4)\n",
      "Requirement already satisfied: rapidfuzz in c:\\users\\yhdb\\anaconda3\\envs\\py310\\lib\\site-packages (from unstructured[md]) (3.11.0)\n",
      "Requirement already satisfied: backoff in c:\\users\\yhdb\\anaconda3\\envs\\py310\\lib\\site-packages (from unstructured[md]) (2.2.1)\n",
      "Requirement already satisfied: typing-extensions in c:\\users\\yhdb\\anaconda3\\envs\\py310\\lib\\site-packages (from unstructured[md]) (4.12.2)\n",
      "Requirement already satisfied: unstructured-client in c:\\users\\yhdb\\anaconda3\\envs\\py310\\lib\\site-packages (from unstructured[md]) (0.28.1)\n",
      "Requirement already satisfied: wrapt in c:\\users\\yhdb\\anaconda3\\envs\\py310\\lib\\site-packages (from unstructured[md]) (1.17.0)\n",
      "Requirement already satisfied: tqdm in c:\\users\\yhdb\\anaconda3\\envs\\py310\\lib\\site-packages (from unstructured[md]) (4.67.1)\n",
      "Requirement already satisfied: psutil in c:\\users\\yhdb\\anaconda3\\envs\\py310\\lib\\site-packages (from unstructured[md]) (6.1.0)\n",
      "Requirement already satisfied: python-oxmsg in c:\\users\\yhdb\\anaconda3\\envs\\py310\\lib\\site-packages (from unstructured[md]) (0.0.1)\n",
      "Requirement already satisfied: html5lib in c:\\users\\yhdb\\anaconda3\\envs\\py310\\lib\\site-packages (from unstructured[md]) (1.1)\n",
      "Collecting markdown (from unstructured[md])\n",
      "  Downloading Markdown-3.7-py3-none-any.whl.metadata (7.0 kB)\n",
      "Requirement already satisfied: soupsieve>1.2 in c:\\users\\yhdb\\anaconda3\\envs\\py310\\lib\\site-packages (from beautifulsoup4->unstructured[md]) (2.6)\n",
      "Requirement already satisfied: marshmallow<4.0.0,>=3.18.0 in c:\\users\\yhdb\\anaconda3\\envs\\py310\\lib\\site-packages (from dataclasses-json->unstructured[md]) (3.23.2)\n",
      "Requirement already satisfied: typing-inspect<1,>=0.4.0 in c:\\users\\yhdb\\anaconda3\\envs\\py310\\lib\\site-packages (from dataclasses-json->unstructured[md]) (0.9.0)\n",
      "Requirement already satisfied: six>=1.9 in c:\\users\\yhdb\\anaconda3\\envs\\py310\\lib\\site-packages (from html5lib->unstructured[md]) (1.17.0)\n",
      "Requirement already satisfied: webencodings in c:\\users\\yhdb\\anaconda3\\envs\\py310\\lib\\site-packages (from html5lib->unstructured[md]) (0.5.1)\n",
      "Requirement already satisfied: click in c:\\users\\yhdb\\anaconda3\\envs\\py310\\lib\\site-packages (from nltk->unstructured[md]) (8.1.7)\n",
      "Requirement already satisfied: joblib in c:\\users\\yhdb\\anaconda3\\envs\\py310\\lib\\site-packages (from nltk->unstructured[md]) (1.4.2)\n",
      "Requirement already satisfied: regex>=2021.8.3 in c:\\users\\yhdb\\anaconda3\\envs\\py310\\lib\\site-packages (from nltk->unstructured[md]) (2024.11.6)\n",
      "Requirement already satisfied: olefile in c:\\users\\yhdb\\anaconda3\\envs\\py310\\lib\\site-packages (from python-oxmsg->unstructured[md]) (0.47)\n",
      "Requirement already satisfied: charset-normalizer<4,>=2 in c:\\users\\yhdb\\anaconda3\\envs\\py310\\lib\\site-packages (from requests->unstructured[md]) (3.4.0)\n",
      "Requirement already satisfied: idna<4,>=2.5 in c:\\users\\yhdb\\anaconda3\\envs\\py310\\lib\\site-packages (from requests->unstructured[md]) (3.10)\n",
      "Requirement already satisfied: urllib3<3,>=1.21.1 in c:\\users\\yhdb\\anaconda3\\envs\\py310\\lib\\site-packages (from requests->unstructured[md]) (2.2.3)\n",
      "Requirement already satisfied: certifi>=2017.4.17 in c:\\users\\yhdb\\anaconda3\\envs\\py310\\lib\\site-packages (from requests->unstructured[md]) (2024.8.30)\n",
      "Requirement already satisfied: colorama in c:\\users\\yhdb\\anaconda3\\envs\\py310\\lib\\site-packages (from tqdm->unstructured[md]) (0.4.6)\n",
      "Requirement already satisfied: aiofiles>=24.1.0 in c:\\users\\yhdb\\anaconda3\\envs\\py310\\lib\\site-packages (from unstructured-client->unstructured[md]) (24.1.0)\n",
      "Requirement already satisfied: cryptography>=3.1 in c:\\users\\yhdb\\anaconda3\\envs\\py310\\lib\\site-packages (from unstructured-client->unstructured[md]) (44.0.0)\n",
      "Requirement already satisfied: eval-type-backport<0.3.0,>=0.2.0 in c:\\users\\yhdb\\anaconda3\\envs\\py310\\lib\\site-packages (from unstructured-client->unstructured[md]) (0.2.0)\n",
      "Requirement already satisfied: httpx>=0.27.0 in c:\\users\\yhdb\\anaconda3\\envs\\py310\\lib\\site-packages (from unstructured-client->unstructured[md]) (0.27.2)\n",
      "Requirement already satisfied: jsonpath-python<2.0.0,>=1.0.6 in c:\\users\\yhdb\\anaconda3\\envs\\py310\\lib\\site-packages (from unstructured-client->unstructured[md]) (1.0.6)\n",
      "Requirement already satisfied: nest-asyncio>=1.6.0 in c:\\users\\yhdb\\anaconda3\\envs\\py310\\lib\\site-packages (from unstructured-client->unstructured[md]) (1.6.0)\n",
      "Requirement already satisfied: pydantic<2.10.0,>=2.9.2 in c:\\users\\yhdb\\anaconda3\\envs\\py310\\lib\\site-packages (from unstructured-client->unstructured[md]) (2.9.2)\n",
      "Requirement already satisfied: pypdf>=4.0 in c:\\users\\yhdb\\anaconda3\\envs\\py310\\lib\\site-packages (from unstructured-client->unstructured[md]) (5.1.0)\n",
      "Requirement already satisfied: python-dateutil<3.0.0,>=2.8.2 in c:\\users\\yhdb\\anaconda3\\envs\\py310\\lib\\site-packages (from unstructured-client->unstructured[md]) (2.9.0.post0)\n",
      "Requirement already satisfied: requests-toolbelt>=1.0.0 in c:\\users\\yhdb\\anaconda3\\envs\\py310\\lib\\site-packages (from unstructured-client->unstructured[md]) (1.0.0)\n",
      "Requirement already satisfied: cffi>=1.12 in c:\\users\\yhdb\\anaconda3\\envs\\py310\\lib\\site-packages (from cryptography>=3.1->unstructured-client->unstructured[md]) (1.17.1)\n",
      "Requirement already satisfied: anyio in c:\\users\\yhdb\\anaconda3\\envs\\py310\\lib\\site-packages (from httpx>=0.27.0->unstructured-client->unstructured[md]) (4.6.2.post1)\n",
      "Requirement already satisfied: httpcore==1.* in c:\\users\\yhdb\\anaconda3\\envs\\py310\\lib\\site-packages (from httpx>=0.27.0->unstructured-client->unstructured[md]) (1.0.7)\n",
      "Requirement already satisfied: sniffio in c:\\users\\yhdb\\anaconda3\\envs\\py310\\lib\\site-packages (from httpx>=0.27.0->unstructured-client->unstructured[md]) (1.3.1)\n",
      "Requirement already satisfied: h11<0.15,>=0.13 in c:\\users\\yhdb\\anaconda3\\envs\\py310\\lib\\site-packages (from httpcore==1.*->httpx>=0.27.0->unstructured-client->unstructured[md]) (0.14.0)\n",
      "Requirement already satisfied: packaging>=17.0 in c:\\users\\yhdb\\anaconda3\\envs\\py310\\lib\\site-packages (from marshmallow<4.0.0,>=3.18.0->dataclasses-json->unstructured[md]) (24.2)\n",
      "Requirement already satisfied: annotated-types>=0.6.0 in c:\\users\\yhdb\\anaconda3\\envs\\py310\\lib\\site-packages (from pydantic<2.10.0,>=2.9.2->unstructured-client->unstructured[md]) (0.7.0)\n",
      "Requirement already satisfied: pydantic-core==2.23.4 in c:\\users\\yhdb\\anaconda3\\envs\\py310\\lib\\site-packages (from pydantic<2.10.0,>=2.9.2->unstructured-client->unstructured[md]) (2.23.4)\n",
      "Requirement already satisfied: mypy-extensions>=0.3.0 in c:\\users\\yhdb\\anaconda3\\envs\\py310\\lib\\site-packages (from typing-inspect<1,>=0.4.0->dataclasses-json->unstructured[md]) (1.0.0)\n",
      "Requirement already satisfied: pycparser in c:\\users\\yhdb\\anaconda3\\envs\\py310\\lib\\site-packages (from cffi>=1.12->cryptography>=3.1->unstructured-client->unstructured[md]) (2.22)\n",
      "Requirement already satisfied: exceptiongroup>=1.0.2 in c:\\users\\yhdb\\anaconda3\\envs\\py310\\lib\\site-packages (from anyio->httpx>=0.27.0->unstructured-client->unstructured[md]) (1.2.2)\n",
      "Downloading Markdown-3.7-py3-none-any.whl (106 kB)\n",
      "Installing collected packages: markdown\n",
      "Successfully installed markdown-3.7\n"
     ]
    }
   ],
   "source": [
    "!pip install \"unstructured[md]\""
   ]
  },
  {
   "cell_type": "code",
   "execution_count": null,
   "id": "2bb0d59a",
   "metadata": {},
   "outputs": [
    {
     "data": {
      "text/plain": [
       "1"
      ]
     },
     "execution_count": 3,
     "metadata": {},
     "output_type": "execute_result"
    }
   ],
   "source": [
    "from langchain_community.document_loaders import DirectoryLoader\n",
    "\n",
    "# 디렉토리 로더 초기화\n",
    "loader = DirectoryLoader(\"../\", glob=\"**/*.md\") # 와일드 카드 패턴 : 특정 확장자를 가진 파일을 로드할 때 유용\n",
    "# 문서 로드\n",
    "docs = loader.load()\n",
    "# 문서 개수 계산\n",
    "len(docs)"
   ]
  },
  {
   "cell_type": "code",
   "execution_count": 4,
   "id": "6c839fda",
   "metadata": {},
   "outputs": [
    {
     "name": "stdout",
     "output_type": "stream",
     "text": [
      "📘 LangChain 한국어 튜토리얼\n",
      "\n",
      "🌟 LangChain 공식 Document, Cookbook, 그 밖의 실용 예제를 바탕으로 작성한 한국어 튜토리얼입니다.\n",
      "\n",
      "본 튜토리얼을 \n"
     ]
    }
   ],
   "source": [
    "# 페이지 내용 출력\n",
    "print(docs[0].page_content[:100])"
   ]
  },
  {
   "cell_type": "markdown",
   "id": "6083f607",
   "metadata": {},
   "source": [
    "기본적으로 진행 상태 표시줄은 표시되지 않습니다. `show_progress=True` 옵션으로 진행상황을 확인할 수 있습니다.\n",
    "\n",
    "**참고**\n",
    "- 진행 상태 표시줄을 표시하려면 `tqdm` 라이브러리를 설치(예: `pip install tqdm`)\n",
    "- `show_progress` 매개변수를 `True`로 설정"
   ]
  },
  {
   "cell_type": "code",
   "execution_count": 5,
   "id": "4c3dfd50",
   "metadata": {},
   "outputs": [
    {
     "name": "stderr",
     "output_type": "stream",
     "text": [
      "100%|██████████| 1/1 [00:00<00:00, 20.41it/s]\n"
     ]
    }
   ],
   "source": [
    "loader = DirectoryLoader(\n",
    "    \"../\", glob=\"**/*.md\", show_progress=True\n",
    ")  # 디렉토리 로더 설정\n",
    "docs = loader.load()  # 문서 로드"
   ]
  },
  {
   "cell_type": "markdown",
   "id": "4394afcf",
   "metadata": {},
   "source": [
    "기본적으로 로딩은 하나의 스레드에서 이루어집니다. \n",
    "\n",
    "만약, 여러 스레드를 활용하려면 `use_multithreading` 플래그를 true로 설정하세요."
   ]
  },
  {
   "cell_type": "code",
   "execution_count": 6,
   "id": "4c00d96f",
   "metadata": {},
   "outputs": [],
   "source": [
    "loader = DirectoryLoader(\n",
    "    \"../\", glob=\"**/*.md\", use_multithreading=True # 속도 상승\n",
    ")  # 디렉토리 로더 설정\n",
    "docs = loader.load()  # 문서 로드"
   ]
  },
  {
   "cell_type": "markdown",
   "id": "c9b6f808",
   "metadata": {},
   "source": [
    "## loader_cls 변경\n",
    "\n",
    "`loader_cls` 는 기본 값으로 `UnstructuredLoader` 클래스를 사용합니다. \n",
    "\n",
    "로더를 사용자 정의하려면 `loader_cls` kwarg에 로더 클래스를 지정하세요. "
   ]
  },
  {
   "cell_type": "code",
   "execution_count": 15,
   "id": "be78ef4b",
   "metadata": {},
   "outputs": [],
   "source": [
    "from langchain_community.document_loaders import TextLoader\n",
    "\n",
    "# loader_cls 를 TextLoader 로 변경합니다.\n",
    "loader = DirectoryLoader(\"../\", glob=\"**/*.md\", loader_cls=TextLoader)\n",
    "\n",
    "# 문서 로드\n",
    "docs = loader.load()"
   ]
  },
  {
   "cell_type": "code",
   "execution_count": 16,
   "id": "9814666e",
   "metadata": {},
   "outputs": [
    {
     "name": "stdout",
     "output_type": "stream",
     "text": [
      "# 📘 LangChain 한국어 튜토리얼\n",
      "\n",
      "![](images/welcome.png)\n",
      "\n",
      "🌟 **LangChain 공식 Document, Cookbook, 그 밖의 실용 예제**를 \n"
     ]
    }
   ],
   "source": [
    "# 문서 페이지 내용 출력\n",
    "print(docs[0].page_content[:100])"
   ]
  },
  {
   "cell_type": "markdown",
   "id": "66edfd05",
   "metadata": {},
   "source": [
    "`UnstructuredLoader`는 Markdown 헤더를 파싱하는 반면, `TextLoader`는 그렇지 않습니다.\n",
    "\n",
    "Python 소스 코드 파일을 로드해야 하는 경우, `PythonLoader`를 사용하세요."
   ]
  },
  {
   "cell_type": "code",
   "execution_count": 17,
   "id": "2413178a",
   "metadata": {},
   "outputs": [],
   "source": [
    "from langchain_community.document_loaders import PythonLoader\n",
    "\n",
    "# 현재폴더(.) 의 .py 파일을 모두 조회하여 PythonLoader 로 로드\n",
    "loader = DirectoryLoader(\".\", glob=\"**/*.py\", loader_cls=PythonLoader)"
   ]
  },
  {
   "cell_type": "code",
   "execution_count": 10,
   "id": "2d961519",
   "metadata": {},
   "outputs": [
    {
     "data": {
      "text/plain": [
       "[Document(metadata={'source': 'data\\\\audio_utils.py'}, page_content='import re\\nimport os\\nfrom pytube import YouTube\\nfrom moviepy.editor import AudioFileClip, VideoFileClip\\nfrom pydub import AudioSegment\\nfrom pydub.silence import detect_nonsilent\\n\\n\\ndef extract_abr(abr):\\n    youtube_audio_pattern = re.compile(r\"\\\\d+\")\\n    kbps = youtube_audio_pattern.search(abr)\\n    if kbps:\\n        kbps = kbps.group()\\n        return int(kbps)\\n    else:\\n        return 0\\n\\n\\ndef get_audio_filepath(filename):\\n    # audio 폴더가 없으면 생성\\n    if not os.path.isdir(\"audio\"):\\n        os.mkdir(\"audio\")\\n\\n    # 현재 스크립트의 절대 경로 얻기\\n    current_directory = os.path.abspath(\"\")\\n\\n    # 파일 경로 생성\\n    audio_file_path = os.path.join(current_directory, \"audio\", filename)\\n\\n    return audio_file_path\\n\\n\\ndef convert_mp4_to_wav(mp4_file_path, wav_file_path):\\n    # MP4 파일 로드\\n    audio_clip = AudioFileClip(mp4_file_path)\\n\\n    # WAV 형식으로 오디오 추출 및 저장\\n    audio_clip.write_audiofile(wav_file_path, fps=44100, nbytes=2, codec=\"pcm_s16le\")\\n\\n\\ndef download_audio_from_youtube(link):\\n    # YouTube 객체 생성\\n    yt = YouTube(link)\\n\\n    # mp4 오디오만 필터링\\n    mp4_files = dict()\\n\\n    # \"audio/mp4\" 타입의 스트림만 필터링\\n    for stream in yt.streams.filter(only_audio=True):\\n        mime_type = stream.mime_type\\n        abr = stream.abr\\n        if mime_type == \"audio/mp4\":\\n            abr = extract_abr(abr)\\n            mp4_files[abr] = stream\\n\\n    # 키를 기준으로 정렬\\n    sorted_keys = sorted(mp4_files.keys())\\n    # 가장 큰 키를 사용하여 값 가져오기\\n    largest_value = mp4_files[sorted_keys[-1]]\\n    filename = largest_value.download()\\n\\n    # 현재 스크립트의 절대 경로 얻기\\n    current_directory = os.path.abspath(\"\")\\n\\n    new_filename = os.path.basename(filename.replace(\".mp4\", \".wav\"))\\n\\n    new_filepath = os.path.join(current_directory, \"audio\", new_filename)\\n\\n    # mp4 파일을 wav 파일로 변환\\n    convert_mp4_to_wav(filename, new_filepath)\\n\\n    # mp4 파일 삭제\\n    os.remove(filename)\\n    return new_filepath\\n\\n\\ndef extract_audio_from_video(video_filepath):\\n    # MP4 파일 로드\\n    video = VideoFileClip(video_filepath)\\n    audio_filepath = get_audio_filepath(video_filepath.replace(\".mp4\", \".wav\"))\\n    video.audio.write_audiofile(audio_filepath)\\n    return audio_filepath\\n\\n\\nclass AudioChunk:\\n    def __init__(self, filepath, min_silence_len=350, silence_thresh=-35):\\n        self.audio = AudioSegment.from_file(filepath, format=\"wav\")\\n        self.filepath = filepath\\n        self.min_silence_len = min_silence_len\\n        self.silence_thresh = silence_thresh\\n        self.detect_nonsilent_from_audio()\\n\\n    @staticmethod\\n    def make_audio_chunks(audio, non_silent_times):\\n        audio_chunks = []\\n        for start, end in non_silent_times:\\n            audio_chunks.append((audio[start:end], start, end))\\n        return audio_chunks\\n\\n    def detect_nonsilent_from_audio(self):\\n        non_silent_audio_times = detect_nonsilent(\\n            self.audio,\\n            min_silence_len=self.min_silence_len,\\n            silence_thresh=self.silence_thresh,\\n        )\\n\\n        non_silent_audios_output = AudioSegment.empty()\\n\\n        for i in range(len(non_silent_audio_times)):\\n            non_silent_audios_output += self.audio[\\n                non_silent_audio_times[i][0] : non_silent_audio_times[i][1]\\n            ]\\n        self.audio_chunks = self.make_audio_chunks(self.audio, non_silent_audio_times)\\n        self.non_silent_audios_output = non_silent_audios_output\\n        print(f\"분석에 사용할 전체 오디오 조각 개수: {len(non_silent_audio_times)}\")\\n\\n    def audio_splits(self, split_time=100):\\n        splits = int(self.audio.duration_seconds // split_time + 1)\\n        audios = []\\n        for s in range(splits):\\n            start = s * split_time * 1000\\n            end = start + split_time * 1000\\n            audios.append(self.audio[start:end])\\n        return audios\\n')]"
      ]
     },
     "execution_count": 10,
     "metadata": {},
     "output_type": "execute_result"
    }
   ],
   "source": [
    "# 문서 로드\n",
    "docs = loader.load()\n",
    "docs"
   ]
  },
  {
   "cell_type": "code",
   "execution_count": null,
   "id": "310a95bf",
   "metadata": {},
   "outputs": [],
   "source": []
  }
 ],
 "metadata": {
  "kernelspec": {
   "display_name": "py310",
   "language": "python",
   "name": "python3"
  },
  "language_info": {
   "codemirror_mode": {
    "name": "ipython",
    "version": 3
   },
   "file_extension": ".py",
   "mimetype": "text/x-python",
   "name": "python",
   "nbconvert_exporter": "python",
   "pygments_lexer": "ipython3",
   "version": "3.10.15"
  }
 },
 "nbformat": 4,
 "nbformat_minor": 5
}
